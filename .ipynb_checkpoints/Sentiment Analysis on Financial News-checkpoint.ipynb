{
 "cells": [
  {
   "cell_type": "code",
   "execution_count": 1,
   "id": "d5cc8b84-7294-4988-9c63-dde8c92afd95",
   "metadata": {},
   "outputs": [],
   "source": [
    "import requests\n",
    "import pandas as pd\n",
    "import numpy as np\n",
    "from bs4 import BeautifulSoup\n",
    "import time\n",
    "from datetime import datetime"
   ]
  },
  {
   "cell_type": "code",
   "execution_count": 2,
   "id": "25a7c399-f0c5-454d-b521-dc20b1b7bfa1",
   "metadata": {},
   "outputs": [],
   "source": [
    "def scrape_finviz_news(tickers):\n",
    "    headers = {'User-Agent': 'Mozilla/5.0'}\n",
    "    all_data = []\n",
    "\n",
    "    for ticker in tickers:\n",
    "        print(f\"Scraping news for {ticker}...\")\n",
    "        url = f'https://finviz.com/quote.ashx?t={ticker}'\n",
    "        r = requests.get(url, headers=headers)\n",
    "        soup = BeautifulSoup(r.text, 'html.parser')\n",
    "        news_table = soup.find('table', class_='fullview-news-outer')\n",
    "\n",
    "        if news_table:\n",
    "            for row in news_table.findAll('tr'):\n",
    "                cols = row.findAll('td')\n",
    "                if len(cols) == 2:\n",
    "                    date_time = cols[0].text.strip()\n",
    "                    headline = cols[1].text.strip()\n",
    "                    all_data.append([ticker, date_time, headline])\n",
    "        time.sleep(1)  # Sleep to avoid getting blocked\n",
    "\n",
    "    return pd.DataFrame(all_data, columns=['Ticker', 'DateTime', 'Headline'])\n"
   ]
  },
  {
   "cell_type": "code",
   "execution_count": 3,
   "id": "0cd51a3b-3b7b-41fc-8e5f-9157d0ea95ed",
   "metadata": {},
   "outputs": [
    {
     "name": "stdout",
     "output_type": "stream",
     "text": [
      "Scraping news for AAPL...\n",
      "Scraping news for GOOGL...\n",
      "Scraping news for MSFT...\n",
      "Scraping news for TSLA...\n"
     ]
    }
   ],
   "source": [
    "tickers=['AAPL','GOOGL','MSFT','TSLA']\n",
    "df_news = scrape_finviz_news(tickers)\n"
   ]
  },
  {
   "cell_type": "code",
   "execution_count": 4,
   "id": "ea0a1547-fbaa-4c82-8952-71eb96ca145c",
   "metadata": {},
   "outputs": [
    {
     "data": {
      "text/html": [
       "<div>\n",
       "<style scoped>\n",
       "    .dataframe tbody tr th:only-of-type {\n",
       "        vertical-align: middle;\n",
       "    }\n",
       "\n",
       "    .dataframe tbody tr th {\n",
       "        vertical-align: top;\n",
       "    }\n",
       "\n",
       "    .dataframe thead th {\n",
       "        text-align: right;\n",
       "    }\n",
       "</style>\n",
       "<table border=\"1\" class=\"dataframe\">\n",
       "  <thead>\n",
       "    <tr style=\"text-align: right;\">\n",
       "      <th></th>\n",
       "      <th>Ticker</th>\n",
       "      <th>DateTime</th>\n",
       "      <th>Headline</th>\n",
       "    </tr>\n",
       "  </thead>\n",
       "  <tbody>\n",
       "    <tr>\n",
       "      <th>0</th>\n",
       "      <td>AAPL</td>\n",
       "      <td>Today 09:36AM</td>\n",
       "      <td>S&amp;P 500 Rally Faces $11 Trillion Gauntlet of B...</td>\n",
       "    </tr>\n",
       "    <tr>\n",
       "      <th>1</th>\n",
       "      <td>AAPL</td>\n",
       "      <td>09:33AM</td>\n",
       "      <td>Stock market today: Dow, S&amp;P 500, Nasdaq nudge...</td>\n",
       "    </tr>\n",
       "    <tr>\n",
       "      <th>2</th>\n",
       "      <td>AAPL</td>\n",
       "      <td>09:07AM</td>\n",
       "      <td>Apple Isn't Leaving China. Its Footprint Is Ge...</td>\n",
       "    </tr>\n",
       "    <tr>\n",
       "      <th>3</th>\n",
       "      <td>AAPL</td>\n",
       "      <td>09:05AM</td>\n",
       "      <td>US-EU trade deal, Big Tech earnings, Fed meeti...</td>\n",
       "    </tr>\n",
       "    <tr>\n",
       "      <th>4</th>\n",
       "      <td>AAPL</td>\n",
       "      <td>09:00AM</td>\n",
       "      <td>Avalon GloboCare Enters into Distribution Agre...</td>\n",
       "    </tr>\n",
       "  </tbody>\n",
       "</table>\n",
       "</div>"
      ],
      "text/plain": [
       "  Ticker       DateTime                                           Headline\n",
       "0   AAPL  Today 09:36AM  S&P 500 Rally Faces $11 Trillion Gauntlet of B...\n",
       "1   AAPL        09:33AM  Stock market today: Dow, S&P 500, Nasdaq nudge...\n",
       "2   AAPL        09:07AM  Apple Isn't Leaving China. Its Footprint Is Ge...\n",
       "3   AAPL        09:05AM  US-EU trade deal, Big Tech earnings, Fed meeti...\n",
       "4   AAPL        09:00AM  Avalon GloboCare Enters into Distribution Agre..."
      ]
     },
     "execution_count": 4,
     "metadata": {},
     "output_type": "execute_result"
    }
   ],
   "source": [
    "df_news.head()"
   ]
  },
  {
   "cell_type": "code",
   "execution_count": 5,
   "id": "02dacae3-4113-487c-995f-b3ca53e5d4dc",
   "metadata": {},
   "outputs": [
    {
     "data": {
      "text/plain": [
       "(400, 3)"
      ]
     },
     "execution_count": 5,
     "metadata": {},
     "output_type": "execute_result"
    }
   ],
   "source": [
    "df_news.shape"
   ]
  },
  {
   "cell_type": "code",
   "execution_count": 6,
   "id": "4979c05b-d431-4c3f-a526-c17c35776e9f",
   "metadata": {},
   "outputs": [],
   "source": [
    "df_news['Headline'] = df_news['Headline'].str.replace(r'\\\\n', ' ', regex=True).str.strip()"
   ]
  },
  {
   "cell_type": "code",
   "execution_count": 7,
   "id": "73cae64a-720b-4688-820f-2941a9e14d8b",
   "metadata": {},
   "outputs": [
    {
     "data": {
      "text/html": [
       "<div>\n",
       "<style scoped>\n",
       "    .dataframe tbody tr th:only-of-type {\n",
       "        vertical-align: middle;\n",
       "    }\n",
       "\n",
       "    .dataframe tbody tr th {\n",
       "        vertical-align: top;\n",
       "    }\n",
       "\n",
       "    .dataframe thead th {\n",
       "        text-align: right;\n",
       "    }\n",
       "</style>\n",
       "<table border=\"1\" class=\"dataframe\">\n",
       "  <thead>\n",
       "    <tr style=\"text-align: right;\">\n",
       "      <th></th>\n",
       "      <th>Ticker</th>\n",
       "      <th>DateTime</th>\n",
       "      <th>Headline</th>\n",
       "    </tr>\n",
       "  </thead>\n",
       "  <tbody>\n",
       "    <tr>\n",
       "      <th>0</th>\n",
       "      <td>AAPL</td>\n",
       "      <td>Today 09:36AM</td>\n",
       "      <td>S&amp;P 500 Rally Faces $11 Trillion Gauntlet of B...</td>\n",
       "    </tr>\n",
       "    <tr>\n",
       "      <th>1</th>\n",
       "      <td>AAPL</td>\n",
       "      <td>09:33AM</td>\n",
       "      <td>Stock market today: Dow, S&amp;P 500, Nasdaq nudge...</td>\n",
       "    </tr>\n",
       "    <tr>\n",
       "      <th>2</th>\n",
       "      <td>AAPL</td>\n",
       "      <td>09:07AM</td>\n",
       "      <td>Apple Isn't Leaving China. Its Footprint Is Ge...</td>\n",
       "    </tr>\n",
       "    <tr>\n",
       "      <th>3</th>\n",
       "      <td>AAPL</td>\n",
       "      <td>09:05AM</td>\n",
       "      <td>US-EU trade deal, Big Tech earnings, Fed meeti...</td>\n",
       "    </tr>\n",
       "    <tr>\n",
       "      <th>4</th>\n",
       "      <td>AAPL</td>\n",
       "      <td>09:00AM</td>\n",
       "      <td>Avalon GloboCare Enters into Distribution Agre...</td>\n",
       "    </tr>\n",
       "  </tbody>\n",
       "</table>\n",
       "</div>"
      ],
      "text/plain": [
       "  Ticker       DateTime                                           Headline\n",
       "0   AAPL  Today 09:36AM  S&P 500 Rally Faces $11 Trillion Gauntlet of B...\n",
       "1   AAPL        09:33AM  Stock market today: Dow, S&P 500, Nasdaq nudge...\n",
       "2   AAPL        09:07AM  Apple Isn't Leaving China. Its Footprint Is Ge...\n",
       "3   AAPL        09:05AM  US-EU trade deal, Big Tech earnings, Fed meeti...\n",
       "4   AAPL        09:00AM  Avalon GloboCare Enters into Distribution Agre..."
      ]
     },
     "execution_count": 7,
     "metadata": {},
     "output_type": "execute_result"
    }
   ],
   "source": [
    "df_news.head()"
   ]
  },
  {
   "cell_type": "code",
   "execution_count": 8,
   "id": "3c4d6971-010d-48ad-9e51-01bd79bdec37",
   "metadata": {},
   "outputs": [
    {
     "name": "stdout",
     "output_type": "stream",
     "text": [
      "--- Cleaned DataFrame ---\n",
      "  Ticker            DateTime  \\\n",
      "0   AAPL 2025-07-28 09:36:00   \n",
      "1   AAPL 2025-07-28 09:33:00   \n",
      "2   AAPL 2025-07-28 09:07:00   \n",
      "3   AAPL 2025-07-28 09:05:00   \n",
      "4   AAPL 2025-07-28 09:00:00   \n",
      "\n",
      "                                            Headline  \n",
      "0  S&P 500 Rally Faces $11 Trillion Gauntlet of B...  \n",
      "1  Stock market today: Dow, S&P 500, Nasdaq nudge...  \n",
      "2  Apple Isn't Leaving China. Its Footprint Is Ge...  \n",
      "3  US-EU trade deal, Big Tech earnings, Fed meeti...  \n",
      "4  Avalon GloboCare Enters into Distribution Agre...  \n",
      "\n",
      "--- Data Types ---\n",
      "<class 'pandas.core.frame.DataFrame'>\n",
      "Index: 387 entries, 0 to 399\n",
      "Data columns (total 3 columns):\n",
      " #   Column    Non-Null Count  Dtype         \n",
      "---  ------    --------------  -----         \n",
      " 0   Ticker    387 non-null    object        \n",
      " 1   DateTime  387 non-null    datetime64[ns]\n",
      " 2   Headline  387 non-null    object        \n",
      "dtypes: datetime64[ns](1), object(2)\n",
      "memory usage: 12.1+ KB\n",
      "None\n"
     ]
    }
   ],
   "source": [
    "def parse_finviz_datetime(datetime_str):\n",
    "    today = datetime.now().date()\n",
    "    \n",
    "    # Check if the string contains 'Today'\n",
    "    if 'Today' in datetime_str:\n",
    "        time_part = datetime_str.replace('Today', '').strip()\n",
    "        # Combine today's date with the parsed time\n",
    "        dt = datetime.strptime(time_part, '%I:%M%p').time()\n",
    "        return datetime.combine(today, dt)\n",
    "    else:\n",
    "        # If it's just a time, we assume it's also for today's date\n",
    "        try:\n",
    "            dt = datetime.strptime(datetime_str, '%I:%M%p').time()\n",
    "            return datetime.combine(today, dt)\n",
    "        except ValueError:\n",
    "            # Return None or NaT if format is unexpected\n",
    "            return pd.NaT \n",
    "\n",
    "# Apply the function to the 'DateTime' column\n",
    "df_news['DateTime'] = df_news['DateTime'].apply(parse_finviz_datetime)\n",
    "\n",
    "# We can also drop any rows where the date couldn't be parsed\n",
    "df_news.dropna(subset=['DateTime'], inplace=True)\n",
    "\n",
    "print(\"--- Cleaned DataFrame ---\")\n",
    "print(df_news.head())\n",
    "print(\"\\n--- Data Types ---\")\n",
    "print(df_news.info())"
   ]
  },
  {
   "cell_type": "code",
   "execution_count": 9,
   "id": "2af6942a-397a-476e-a684-795b552717a6",
   "metadata": {},
   "outputs": [],
   "source": [
    "from vaderSentiment.vaderSentiment import SentimentIntensityAnalyzer\n"
   ]
  },
  {
   "cell_type": "code",
   "execution_count": 10,
   "id": "a5ef5e41-a9a4-41e9-8246-e6c0c7c59f27",
   "metadata": {},
   "outputs": [],
   "source": [
    "analyzer = SentimentIntensityAnalyzer()"
   ]
  },
  {
   "cell_type": "code",
   "execution_count": 11,
   "id": "080b4733-d208-415c-bec0-41dc91e3f2c1",
   "metadata": {},
   "outputs": [],
   "source": [
    "df_news['compound'] = df_news['Headline'].apply(lambda headline: analyzer.polarity_scores(headline)['compound'])"
   ]
  },
  {
   "cell_type": "code",
   "execution_count": 12,
   "id": "e6ac0af2-7bc3-4c04-b520-dd9be001580c",
   "metadata": {},
   "outputs": [
    {
     "data": {
      "text/html": [
       "<div>\n",
       "<style scoped>\n",
       "    .dataframe tbody tr th:only-of-type {\n",
       "        vertical-align: middle;\n",
       "    }\n",
       "\n",
       "    .dataframe tbody tr th {\n",
       "        vertical-align: top;\n",
       "    }\n",
       "\n",
       "    .dataframe thead th {\n",
       "        text-align: right;\n",
       "    }\n",
       "</style>\n",
       "<table border=\"1\" class=\"dataframe\">\n",
       "  <thead>\n",
       "    <tr style=\"text-align: right;\">\n",
       "      <th></th>\n",
       "      <th>Ticker</th>\n",
       "      <th>DateTime</th>\n",
       "      <th>Headline</th>\n",
       "      <th>compound</th>\n",
       "    </tr>\n",
       "  </thead>\n",
       "  <tbody>\n",
       "    <tr>\n",
       "      <th>0</th>\n",
       "      <td>AAPL</td>\n",
       "      <td>2025-07-28 09:36:00</td>\n",
       "      <td>S&amp;P 500 Rally Faces $11 Trillion Gauntlet of B...</td>\n",
       "      <td>0.0000</td>\n",
       "    </tr>\n",
       "    <tr>\n",
       "      <th>1</th>\n",
       "      <td>AAPL</td>\n",
       "      <td>2025-07-28 09:33:00</td>\n",
       "      <td>Stock market today: Dow, S&amp;P 500, Nasdaq nudge...</td>\n",
       "      <td>0.3182</td>\n",
       "    </tr>\n",
       "    <tr>\n",
       "      <th>2</th>\n",
       "      <td>AAPL</td>\n",
       "      <td>2025-07-28 09:07:00</td>\n",
       "      <td>Apple Isn't Leaving China. Its Footprint Is Ge...</td>\n",
       "      <td>0.0000</td>\n",
       "    </tr>\n",
       "    <tr>\n",
       "      <th>3</th>\n",
       "      <td>AAPL</td>\n",
       "      <td>2025-07-28 09:05:00</td>\n",
       "      <td>US-EU trade deal, Big Tech earnings, Fed meeti...</td>\n",
       "      <td>0.0000</td>\n",
       "    </tr>\n",
       "    <tr>\n",
       "      <th>4</th>\n",
       "      <td>AAPL</td>\n",
       "      <td>2025-07-28 09:00:00</td>\n",
       "      <td>Avalon GloboCare Enters into Distribution Agre...</td>\n",
       "      <td>0.4939</td>\n",
       "    </tr>\n",
       "  </tbody>\n",
       "</table>\n",
       "</div>"
      ],
      "text/plain": [
       "  Ticker            DateTime  \\\n",
       "0   AAPL 2025-07-28 09:36:00   \n",
       "1   AAPL 2025-07-28 09:33:00   \n",
       "2   AAPL 2025-07-28 09:07:00   \n",
       "3   AAPL 2025-07-28 09:05:00   \n",
       "4   AAPL 2025-07-28 09:00:00   \n",
       "\n",
       "                                            Headline  compound  \n",
       "0  S&P 500 Rally Faces $11 Trillion Gauntlet of B...    0.0000  \n",
       "1  Stock market today: Dow, S&P 500, Nasdaq nudge...    0.3182  \n",
       "2  Apple Isn't Leaving China. Its Footprint Is Ge...    0.0000  \n",
       "3  US-EU trade deal, Big Tech earnings, Fed meeti...    0.0000  \n",
       "4  Avalon GloboCare Enters into Distribution Agre...    0.4939  "
      ]
     },
     "execution_count": 12,
     "metadata": {},
     "output_type": "execute_result"
    }
   ],
   "source": [
    "df_news.head()"
   ]
  },
  {
   "cell_type": "code",
   "execution_count": 13,
   "id": "b3a4277c-d9bd-46e4-9345-505648ef737b",
   "metadata": {},
   "outputs": [],
   "source": [
    "def classify_sentiment(compound_score):\n",
    "    if compound_score >= 0.05:\n",
    "        return 'Positive'\n",
    "    elif compound_score <= -0.05:\n",
    "        return 'Negative'\n",
    "    else:\n",
    "        return 'Neutral'"
   ]
  },
  {
   "cell_type": "code",
   "execution_count": 14,
   "id": "0f0b4c29-eb92-42fb-8ea1-5b48fcf5fbf0",
   "metadata": {},
   "outputs": [],
   "source": [
    "df_news['Sentiment'] = df_news['compound'].apply(classify_sentiment)"
   ]
  },
  {
   "cell_type": "code",
   "execution_count": 15,
   "id": "1a1e1bda-a291-4355-ae38-4d9be095d3fb",
   "metadata": {},
   "outputs": [
    {
     "data": {
      "text/html": [
       "<div>\n",
       "<style scoped>\n",
       "    .dataframe tbody tr th:only-of-type {\n",
       "        vertical-align: middle;\n",
       "    }\n",
       "\n",
       "    .dataframe tbody tr th {\n",
       "        vertical-align: top;\n",
       "    }\n",
       "\n",
       "    .dataframe thead th {\n",
       "        text-align: right;\n",
       "    }\n",
       "</style>\n",
       "<table border=\"1\" class=\"dataframe\">\n",
       "  <thead>\n",
       "    <tr style=\"text-align: right;\">\n",
       "      <th></th>\n",
       "      <th>Ticker</th>\n",
       "      <th>DateTime</th>\n",
       "      <th>Headline</th>\n",
       "      <th>compound</th>\n",
       "      <th>Sentiment</th>\n",
       "    </tr>\n",
       "  </thead>\n",
       "  <tbody>\n",
       "    <tr>\n",
       "      <th>0</th>\n",
       "      <td>AAPL</td>\n",
       "      <td>2025-07-28 09:36:00</td>\n",
       "      <td>S&amp;P 500 Rally Faces $11 Trillion Gauntlet of B...</td>\n",
       "      <td>0.0000</td>\n",
       "      <td>Neutral</td>\n",
       "    </tr>\n",
       "    <tr>\n",
       "      <th>1</th>\n",
       "      <td>AAPL</td>\n",
       "      <td>2025-07-28 09:33:00</td>\n",
       "      <td>Stock market today: Dow, S&amp;P 500, Nasdaq nudge...</td>\n",
       "      <td>0.3182</td>\n",
       "      <td>Positive</td>\n",
       "    </tr>\n",
       "    <tr>\n",
       "      <th>2</th>\n",
       "      <td>AAPL</td>\n",
       "      <td>2025-07-28 09:07:00</td>\n",
       "      <td>Apple Isn't Leaving China. Its Footprint Is Ge...</td>\n",
       "      <td>0.0000</td>\n",
       "      <td>Neutral</td>\n",
       "    </tr>\n",
       "    <tr>\n",
       "      <th>3</th>\n",
       "      <td>AAPL</td>\n",
       "      <td>2025-07-28 09:05:00</td>\n",
       "      <td>US-EU trade deal, Big Tech earnings, Fed meeti...</td>\n",
       "      <td>0.0000</td>\n",
       "      <td>Neutral</td>\n",
       "    </tr>\n",
       "    <tr>\n",
       "      <th>4</th>\n",
       "      <td>AAPL</td>\n",
       "      <td>2025-07-28 09:00:00</td>\n",
       "      <td>Avalon GloboCare Enters into Distribution Agre...</td>\n",
       "      <td>0.4939</td>\n",
       "      <td>Positive</td>\n",
       "    </tr>\n",
       "  </tbody>\n",
       "</table>\n",
       "</div>"
      ],
      "text/plain": [
       "  Ticker            DateTime  \\\n",
       "0   AAPL 2025-07-28 09:36:00   \n",
       "1   AAPL 2025-07-28 09:33:00   \n",
       "2   AAPL 2025-07-28 09:07:00   \n",
       "3   AAPL 2025-07-28 09:05:00   \n",
       "4   AAPL 2025-07-28 09:00:00   \n",
       "\n",
       "                                            Headline  compound Sentiment  \n",
       "0  S&P 500 Rally Faces $11 Trillion Gauntlet of B...    0.0000   Neutral  \n",
       "1  Stock market today: Dow, S&P 500, Nasdaq nudge...    0.3182  Positive  \n",
       "2  Apple Isn't Leaving China. Its Footprint Is Ge...    0.0000   Neutral  \n",
       "3  US-EU trade deal, Big Tech earnings, Fed meeti...    0.0000   Neutral  \n",
       "4  Avalon GloboCare Enters into Distribution Agre...    0.4939  Positive  "
      ]
     },
     "execution_count": 15,
     "metadata": {},
     "output_type": "execute_result"
    }
   ],
   "source": [
    "df_news.head()"
   ]
  },
  {
   "cell_type": "code",
   "execution_count": 18,
   "id": "f0690d73-8802-4d5d-93b6-a273742646ea",
   "metadata": {},
   "outputs": [
    {
     "name": "stdout",
     "output_type": "stream",
     "text": [
      "\n",
      "--- Sentiment Distribution ---\n",
      "Sentiment\n",
      "Neutral     170\n",
      "Positive    146\n",
      "Negative     71\n",
      "Name: count, dtype: int64\n",
      "\n",
      "--- Top 5 Most Positive Headlines ---\n",
      "                                              Headline  compound Sentiment\n",
      "147  Trumps big beautiful bill to boost big techs c...    0.8126  Positive\n",
      "132  What Are the 3 Best Bargain Artificial Intelli...    0.7351  Positive\n",
      "207  NBIS Eyes Positive EBITDA in H2 2025: What Cou...    0.7351  Positive\n",
      "67   Stock market today: S&P 500 clears 5th-straigh...    0.6597  Positive\n",
      "68   S&P 500 clears 5th-straight record this week, ...    0.6597  Positive\n",
      "\n",
      "--- Top 5 Most Negative Headlines ---\n",
      "                                              Headline  compound Sentiment\n",
      "334  Bad News Keeps Rolling in for Tesla\\n\\n\\n(Motl...   -0.7506  Negative\n",
      "83   Apple Faces Existential Threat If It Fails To ...   -0.7351  Negative\n",
      "178  Apple Faces Existential Threat If It Fails To ...   -0.7351  Negative\n",
      "269  Microsoft Corp (MSFT) Patches SharePoint Vulne...   -0.7003  Negative\n",
      "52   The S&P 500 Is Crushing Apple This Year -- Her...   -0.6597  Negative\n"
     ]
    }
   ],
   "source": [
    "# --- See the distribution of sentiments ---\n",
    "print(\"\\n--- Sentiment Distribution ---\")\n",
    "sentiment_counts = df_news['Sentiment'].value_counts()\n",
    "print(sentiment_counts)\n",
    "\n",
    "# --- See the most positive headlines ---\n",
    "print(\"\\n--- Top 5 Most Positive Headlines ---\")\n",
    "print(df_news.nlargest(5, 'compound')[['Headline', 'compound', 'Sentiment']])\n",
    "\n",
    "# --- See the most negative headlines ---\n",
    "print(\"\\n--- Top 5 Most Negative Headlines ---\")\n",
    "print(df_news.nsmallest(5, 'compound')[['Headline', 'compound', 'Sentiment']])"
   ]
  },
  {
   "cell_type": "code",
   "execution_count": null,
   "id": "4d4e128c-9772-4f1f-ba1f-0f223a32759e",
   "metadata": {},
   "outputs": [],
   "source": []
  }
 ],
 "metadata": {
  "kernelspec": {
   "display_name": "Python 3 (ipykernel)",
   "language": "python",
   "name": "python3"
  },
  "language_info": {
   "codemirror_mode": {
    "name": "ipython",
    "version": 3
   },
   "file_extension": ".py",
   "mimetype": "text/x-python",
   "name": "python",
   "nbconvert_exporter": "python",
   "pygments_lexer": "ipython3",
   "version": "3.12.3"
  }
 },
 "nbformat": 4,
 "nbformat_minor": 5
}
