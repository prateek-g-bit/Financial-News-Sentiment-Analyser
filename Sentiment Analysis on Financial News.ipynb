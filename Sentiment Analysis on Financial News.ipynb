{
 "cells": [
  {
   "cell_type": "code",
   "execution_count": 23,
   "id": "d5cc8b84-7294-4988-9c63-dde8c92afd95",
   "metadata": {},
   "outputs": [],
   "source": [
    "import requests\n",
    "import pandas as pd\n",
    "import numpy as np\n",
    "from bs4 import BeautifulSoup\n",
    "import time"
   ]
  },
  {
   "cell_type": "code",
   "execution_count": 24,
   "id": "25a7c399-f0c5-454d-b521-dc20b1b7bfa1",
   "metadata": {},
   "outputs": [],
   "source": [
    "def scrape_finviz_news(tickers):\n",
    "    headers = {'User-Agent': 'Mozilla/5.0'}\n",
    "    all_data = []\n",
    "\n",
    "    for ticker in tickers:\n",
    "        print(f\"Scraping news for {ticker}...\")\n",
    "        url = f'https://finviz.com/quote.ashx?t={ticker}'\n",
    "        r = requests.get(url, headers=headers)\n",
    "        soup = BeautifulSoup(r.text, 'html.parser')\n",
    "        news_table = soup.find('table', class_='fullview-news-outer')\n",
    "\n",
    "        if news_table:\n",
    "            for row in news_table.findAll('tr'):\n",
    "                cols = row.findAll('td')\n",
    "                if len(cols) == 2:\n",
    "                    date_time = cols[0].text.strip()\n",
    "                    headline = cols[1].text.strip()\n",
    "                    all_data.append([ticker, date_time, headline])\n",
    "        time.sleep(1)  # Sleep to avoid getting blocked\n",
    "\n",
    "    return pd.DataFrame(all_data, columns=['Ticker', 'DateTime', 'Headline'])\n"
   ]
  },
  {
   "cell_type": "code",
   "execution_count": 25,
   "id": "0cd51a3b-3b7b-41fc-8e5f-9157d0ea95ed",
   "metadata": {},
   "outputs": [
    {
     "name": "stdout",
     "output_type": "stream",
     "text": [
      "Scraping news for AAPL...\n",
      "Scraping news for GOOGL...\n",
      "Scraping news for MSFT...\n",
      "Scraping news for TSLA...\n"
     ]
    }
   ],
   "source": [
    "tickers=['AAPL','GOOGL','MSFT','TSLA']\n",
    "df_news = scrape_finviz_news(tickers)\n"
   ]
  },
  {
   "cell_type": "code",
   "execution_count": 26,
   "id": "ea0a1547-fbaa-4c82-8952-71eb96ca145c",
   "metadata": {},
   "outputs": [
    {
     "data": {
      "text/html": [
       "<div>\n",
       "<style scoped>\n",
       "    .dataframe tbody tr th:only-of-type {\n",
       "        vertical-align: middle;\n",
       "    }\n",
       "\n",
       "    .dataframe tbody tr th {\n",
       "        vertical-align: top;\n",
       "    }\n",
       "\n",
       "    .dataframe thead th {\n",
       "        text-align: right;\n",
       "    }\n",
       "</style>\n",
       "<table border=\"1\" class=\"dataframe\">\n",
       "  <thead>\n",
       "    <tr style=\"text-align: right;\">\n",
       "      <th></th>\n",
       "      <th>Ticker</th>\n",
       "      <th>DateTime</th>\n",
       "      <th>Headline</th>\n",
       "    </tr>\n",
       "  </thead>\n",
       "  <tbody>\n",
       "    <tr>\n",
       "      <th>0</th>\n",
       "      <td>AAPL</td>\n",
       "      <td>Today 05:14PM</td>\n",
       "      <td>UK Warns Apple, Google Over App Store Power\\n\\...</td>\n",
       "    </tr>\n",
       "    <tr>\n",
       "      <th>1</th>\n",
       "      <td>AAPL</td>\n",
       "      <td>04:39PM</td>\n",
       "      <td>Stocks Close at Record as Alphabet Fuels AI Ho...</td>\n",
       "    </tr>\n",
       "    <tr>\n",
       "      <th>2</th>\n",
       "      <td>AAPL</td>\n",
       "      <td>04:34PM</td>\n",
       "      <td>Apple should buy OpenAI, says Alger's Ankur Cr...</td>\n",
       "    </tr>\n",
       "    <tr>\n",
       "      <th>3</th>\n",
       "      <td>AAPL</td>\n",
       "      <td>04:03PM</td>\n",
       "      <td>Top Stocks Powering the Fourth Industrial Revo...</td>\n",
       "    </tr>\n",
       "    <tr>\n",
       "      <th>4</th>\n",
       "      <td>AAPL</td>\n",
       "      <td>03:51PM</td>\n",
       "      <td>Alphabet Boosted by AI, Cloud Demand\\n\\n\\n(Blo...</td>\n",
       "    </tr>\n",
       "  </tbody>\n",
       "</table>\n",
       "</div>"
      ],
      "text/plain": [
       "  Ticker       DateTime                                           Headline\n",
       "0   AAPL  Today 05:14PM  UK Warns Apple, Google Over App Store Power\\n\\...\n",
       "1   AAPL        04:39PM  Stocks Close at Record as Alphabet Fuels AI Ho...\n",
       "2   AAPL        04:34PM  Apple should buy OpenAI, says Alger's Ankur Cr...\n",
       "3   AAPL        04:03PM  Top Stocks Powering the Fourth Industrial Revo...\n",
       "4   AAPL        03:51PM  Alphabet Boosted by AI, Cloud Demand\\n\\n\\n(Blo..."
      ]
     },
     "execution_count": 26,
     "metadata": {},
     "output_type": "execute_result"
    }
   ],
   "source": [
    "df_news.head()"
   ]
  },
  {
   "cell_type": "code",
   "execution_count": 29,
   "id": "02dacae3-4113-487c-995f-b3ca53e5d4dc",
   "metadata": {},
   "outputs": [
    {
     "data": {
      "text/plain": [
       "(400, 3)"
      ]
     },
     "execution_count": 29,
     "metadata": {},
     "output_type": "execute_result"
    }
   ],
   "source": [
    "df_news.shape"
   ]
  },
  {
   "cell_type": "code",
   "execution_count": null,
   "id": "4979c05b-d431-4c3f-a526-c17c35776e9f",
   "metadata": {},
   "outputs": [],
   "source": []
  }
 ],
 "metadata": {
  "kernelspec": {
   "display_name": "Python 3 (ipykernel)",
   "language": "python",
   "name": "python3"
  },
  "language_info": {
   "codemirror_mode": {
    "name": "ipython",
    "version": 3
   },
   "file_extension": ".py",
   "mimetype": "text/x-python",
   "name": "python",
   "nbconvert_exporter": "python",
   "pygments_lexer": "ipython3",
   "version": "3.12.3"
  }
 },
 "nbformat": 4,
 "nbformat_minor": 5
}
